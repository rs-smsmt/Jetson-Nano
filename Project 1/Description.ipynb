{
 "cells": [
  {
   "cell_type": "markdown",
   "id": "67e6f8c6-a4ed-4435-87d1-2d060698260e",
   "metadata": {},
   "source": [
    "## Project-1 (Binary Counter)\n",
    "<hr>\n",
    "Hardware Requirements:<br>\n",
    "<ul>\n",
    "    <li>1x Jetson Nano Developer Kit &nbsp&nbsp&nbsp&nbsp&nbsp&nbsp&nbsp&nbsp&nbsp&nbsp <a style='text-decoration:underline;' href=\"https://www.amazon.com/NVIDIA-Jetson-Nano-Developer-945-13450-0000-100/dp/B084DSDDLT/ref=asc_df_B084DSDDLT/?tag=hyprod-20&linkCode=df0&hvadid=416652333997&hvpos=&hvnetw=g&hvrand=5305739034639160798&hvpone=&hvptwo=&hvqmt=&hvdev=c&hvdvcmdl=&hvlocint=&hvlocphy=9020641&hvtargid=pla-893453703291&psc=1&tag=&ref=&adgrpid=100759324064&hvpone=&hvptwo=&hvadid=416652333997&hvpos=&hvnetw=g&hvrand=5305739034639160798&hvqmt=&hvdev=c&hvdvcmdl=&hvlocint=&hvlocphy=9020641&hvtargid=pla-893453703291\">Amazon</a></li>\n",
    "    <li>1x DC Adapter (5V 2.5A)</li>\n",
    "    <li>1x Monitor, 1x Mouse, and 1x Keyboard</li>\n",
    "    <li>1x HDMI Cable</li>\n",
    "    <li>1x SD Card with an already booted and configured 'Jetson Nano Developer Kit SD Card' Image &nbsp&nbsp&nbsp&nbsp&nbsp&nbsp&nbsp&nbsp&nbsp&nbsp <a style='text-decoration:underline;' href='https://developer.nvidia.com/embedded/learn/getting-started-jetson'>Getting Started on Jason Nano</a></li>\n",
    "    <Li>4x LEDs</Li>\n",
    "    <li>4x Resistors</li>\n",
    "    <li>4x Transistors</li>\n",
    "    <li>1x Breadboard</li>\n",
    "    <li>Wires (pref. Red, Blue, one onother color)</li>\n",
    "</ul>\n",
    "<hr>\n",
    "Required Liberaries:<br>\n",
    "<ol>\n",
    "    <li>GPIO&nbsp&nbsp#To work with Jetson Nano's pins</li>\n",
    "    <li>time&nbsp&nbsp&nbsp#To create delays</li>\n",
    "</ol>\n",
    "<hr>\n",
    "Other Prerequisites:<br>\n",
    "<ol>\n",
    "    <li>Text Editor (pref. Visual Studio Code)</li>\n",
    "    <li>Some Python programming knowledge</li>\n",
    "    <ol>\n",
    "        <li>How to import and work with modules</li>\n",
    "        <li>Variables and Data Types</li>\n",
    "        <li>If Statements</li>\n",
    "        <li>While loop</li>\n",
    "        <li>For loop</li>\n",
    "        <li>Functions</li>\n",
    "        <ul>\n",
    "            <li>Creaing Functions</li>\n",
    "            <li>Using built-in functions Ex. bin()</li>\n",
    "        </ul>\n",
    "        <li>List Comprehension</li>\n",
    "        <li>String Formatting</li>\n",
    "        <li>Type Conversoin</li>\n",
    "    </ol>\n",
    "</ol>"
   ]
  },
  {
   "cell_type": "markdown",
   "id": "5500838b-03fa-48c2-8f79-fbce007bd846",
   "metadata": {},
   "source": [
    "## Step 1:\n",
    "Getting The board ready:\n",
    "<img src=\"img/circuit.png\">\n",
    "<img src=\"img/1.jpeg\">\n",
    "\n",
    "Closeup Images:\n",
    "<div style=\"width:100%;\">\n",
    "    <img src=\"img/2.jpeg\" width=\"49%\">\n",
    "    <img src=\"img/3.jpeg\" width=\"49%\">\n",
    "</div>"
   ]
  },
  {
   "cell_type": "markdown",
   "id": "998bb1be-dabb-41e3-8ddb-04e915e18cb8",
   "metadata": {},
   "source": [
    "## Step 2:\n",
    "Connecting the board to Jetson Nano\n",
    "\n",
    "<img src=\"img/4.jpeg\">"
   ]
  },
  {
   "cell_type": "markdown",
   "id": "fc54d425-ef32-43ce-840e-ea6a0fb18a25",
   "metadata": {},
   "source": [
    "## Step 3:\n",
    "Writting the Code:"
   ]
  },
  {
   "cell_type": "markdown",
   "id": "19bff27f-6407-415c-ac42-53d3a464220c",
   "metadata": {},
   "source": [
    "### Importing Dependencies"
   ]
  },
  {
   "cell_type": "code",
   "execution_count": null,
   "id": "2793e343-febe-47ca-9bf0-b89fdd83e9ce",
   "metadata": {},
   "outputs": [],
   "source": [
    "import RPi.GPIO as GPIO\n",
    "import time"
   ]
  },
  {
   "cell_type": "markdown",
   "id": "6e667c71-8788-4a3b-ab5c-a3bb253f782f",
   "metadata": {},
   "source": [
    "### Set the GPIO mode to BCM"
   ]
  },
  {
   "cell_type": "code",
   "execution_count": null,
   "id": "816c1478-98ea-437f-a51b-799ce31a353f",
   "metadata": {},
   "outputs": [],
   "source": [
    "GPIO.setmode(GPIO.BCM)"
   ]
  },
  {
   "cell_type": "markdown",
   "id": "ae9cad36-e150-4ebe-b1af-008de7548a86",
   "metadata": {},
   "source": [
    "### Define GPIO pins for each LED"
   ]
  },
  {
   "cell_type": "code",
   "execution_count": null,
   "id": "3ef02dad-3710-4dff-8074-6f0e9176dcb8",
   "metadata": {},
   "outputs": [],
   "source": [
    "LED_PINS = [18, 23, 24, 25]\n",
    "LED_PINS_DICT = {0:18,1:23,2:24,3:25}"
   ]
  },
  {
   "cell_type": "markdown",
   "id": "31a6939e-b7f6-4915-bf61-6986d5d73305",
   "metadata": {},
   "source": [
    "### Set all LED pins as output"
   ]
  },
  {
   "cell_type": "code",
   "execution_count": null,
   "id": "a90a9c0c-ddd2-474d-9b3d-2de3a703aad9",
   "metadata": {},
   "outputs": [],
   "source": [
    "for pin in LED_PINS:\n",
    "    GPIO.setup(pin, GPIO.OUT)"
   ]
  },
  {
   "cell_type": "markdown",
   "id": "76d5e04b-af1e-44af-9e94-47b48984d760",
   "metadata": {},
   "source": [
    "### pin_state function gets the pin's value and return their state in a list [HIGH/LOW]"
   ]
  },
  {
   "cell_type": "code",
   "execution_count": null,
   "id": "b3613469-d833-4145-8efe-aa57e828e73b",
   "metadata": {},
   "outputs": [],
   "source": [
    "def pin_state(p_arr):\n",
    "    return ['GPIO.HIGH' if int(i) else 'GPIO.LOW' for i in p_arr]"
   ]
  },
  {
   "cell_type": "markdown",
   "id": "7c667b9f-1f7e-4268-869a-83e5b0615994",
   "metadata": {},
   "source": [
    "### Main"
   ]
  },
  {
   "cell_type": "code",
   "execution_count": null,
   "id": "80c3dfea-2763-48c5-885d-372180655b85",
   "metadata": {},
   "outputs": [],
   "source": [
    "way = True #This is a flag and shows weather we are counting UP or counting Down\n",
    "i = 0      #The current number             \n",
    "pins_array = []  #the binary format of the current number will get stored here. each number takes one cell. Ex: 11 -> [1,0,1,1]\n",
    "while True: #Creates an infinite loop so we can count up and down continuously\n",
    "    pins_array = [j for j in ('0'*(4-len(bin(i)[2:])))+bin(i)[2:]]  #Converting and storying the binary form of the current number in pins_array\n",
    "\n",
    "    #Going throught the pins and turning them on or off depending on their state\n",
    "    for n,state in enumerate(pin_state(pins_array)):\n",
    "        exec(f'GPIO.output({LED_PINS_DICT[n]}, {state})')\n",
    "    #Uncomment the next two lines to see the pin's state in the console\n",
    "    #     print(LED_PINS_DICT[n], state, end = \" | \")\n",
    "    # print()\n",
    "\n",
    "    #ioncreases the current number if we are counting up or decreases one from it if we are counting down\n",
    "    if way:  \n",
    "        i+=1\n",
    "    else:\n",
    "        i-=1\n",
    "        \n",
    "    #Chekcing whether we have reached the end of counting up (15) or down (0) using the flag 'way' we defined earlier\n",
    "    if i == 15 and way==True:\n",
    "        way = False\n",
    "        i = 15\n",
    "    elif i == 0 and way == False:\n",
    "        way = True\n",
    "        i = 0\n",
    "    time.sleep(1)"
   ]
  },
  {
   "cell_type": "code",
   "execution_count": 3,
   "id": "c4262694-7971-4797-a108-7137628fa10b",
   "metadata": {},
   "outputs": [],
   "source": [
    "from IPython.display import YouTubeVideo"
   ]
  },
  {
   "cell_type": "markdown",
   "id": "78772efc-fa11-46d1-a26d-17cdc9c3d49b",
   "metadata": {},
   "source": [
    "## Step 4:\n",
    "Running the code:\n",
    "You should see the exact results on your board. If NOT, check the board and connections."
   ]
  },
  {
   "cell_type": "code",
   "execution_count": 13,
   "id": "1b654474-1207-45f0-915c-01d24048fe52",
   "metadata": {
    "scrolled": true
   },
   "outputs": [
    {
     "data": {
      "image/jpeg": "[encoded data removed]",
      "text/html": [
       "\n",
       "        <iframe\n",
       "            width=\"\"\n",
       "            height=\"\"\n",
       "            src=\"https://www.youtube.com/embed/DnU9cB7Kbes\"\n",
       "            frameborder=\"0\"\n",
       "            allowfullscreen\n",
       "            \n",
       "        ></iframe>\n",
       "        "
      ],
      "text/plain": [
       "<IPython.lib.display.YouTubeVideo at 0x221a109c790>"
      ]
     },
     "execution_count": 13,
     "metadata": {},
     "output_type": "execute_result"
    }
   ],
   "source": [
    "id = \"DnU9cB7Kbes\"\n",
    "YouTubeVideo(id=id, width=\"\", height=\"\")"
   ]
  },
  {
   "cell_type": "markdown",
   "id": "17eb6a6a-8dbb-4319-84ed-903dbc37ab9e",
   "metadata": {},
   "source": [
    "<iframe width=\"560\" height=\"315\" src=\"https://www.youtube.com/embed/DnU9cB7Kbes\" title=\"YouTube video player\" frameborder=\"0\" allow=\"accelerometer; autoplay; clipboard-write; encrypted-media; gyroscope; picture-in-picture; web-share\" allowfullscreen></iframe>"
   ]
  }
 ],
 "metadata": {
  "kernelspec": {
   "display_name": "Python 3 (ipykernel)",
   "language": "python",
   "name": "python3"
  },
  "language_info": {
   "codemirror_mode": {
    "name": "ipython",
    "version": 3
   },
   "file_extension": ".py",
   "mimetype": "text/x-python",
   "name": "python",
   "nbconvert_exporter": "python",
   "pygments_lexer": "ipython3",
   "version": "3.10.11"
  }
 },
 "nbformat": 4,
 "nbformat_minor": 5
}
